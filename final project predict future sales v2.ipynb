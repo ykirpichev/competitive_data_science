{
 "cells": [
  {
   "cell_type": "code",
   "execution_count": 92,
   "metadata": {},
   "outputs": [],
   "source": [
    "#!kaggle competitions download -c competitive-data-science-predict-future-sales\n",
    "#!pip install lightgbm\n",
    "#!pip install xgboost\n",
    "#!conda install catboost\n",
    "#!pip install ipywidgets\n",
    "#!jupyter nbextension enable --py widgetsnbextension"
   ]
  },
  {
   "cell_type": "code",
   "execution_count": 1,
   "metadata": {},
   "outputs": [],
   "source": [
    "import pandas as pd\n",
    "import numpy as np\n",
    "import gc\n",
    "import matplotlib.pyplot as plt\n",
    "%matplotlib inline \n",
    "\n",
    "pd.set_option('display.max_rows', 600)\n",
    "pd.set_option('display.max_columns', 50)\n",
    "\n",
    "import lightgbm as lgb\n",
    "from sklearn.linear_model import LinearRegression\n",
    "from sklearn.metrics import r2_score\n",
    "from tqdm import tqdm_notebook\n",
    "\n",
    "from itertools import product\n",
    "\n",
    "import xgboost as xgb\n",
    "import sklearn.svm as svm\n",
    "from sklearn.linear_model import LinearRegression\n",
    "from catboost import Pool, CatBoostRegressor\n",
    "\n",
    "\n",
    "def downcast_dtypes(df):\n",
    "    '''\n",
    "        Changes column types in the dataframe: \n",
    "                \n",
    "                `float64` type to `float32`\n",
    "                `int64`   type to `int32`\n",
    "    '''\n",
    "    \n",
    "    # Select columns to downcast\n",
    "    float_cols = [c for c in df if df[c].dtype == \"float64\"]\n",
    "    int_cols =   [c for c in df if df[c].dtype == \"int64\"]\n",
    "    \n",
    "    # Downcast\n",
    "    df[float_cols] = df[float_cols].astype(np.float32)\n",
    "    df[int_cols]   = df[int_cols].astype(np.int32)\n",
    "    \n",
    "    return df"
   ]
  },
  {
   "cell_type": "markdown",
   "metadata": {},
   "source": [
    "## Brief data analysis\n",
    "\n",
    "Here is recommendation from lections:\n",
    "\n",
    "Try to carefully tune hyper parameters of your models, maybe there is a better set of parameters for your model out there. But don't spend too much time on it. Try ensembling. Start with simple averaging of linear model and gradient boosted trees like in programming assignment notebook. And then try to use stacking. Explore new features! There is a lot of useful information in the data: text descriptions, item categories, seasonal trends."
   ]
  },
  {
   "cell_type": "code",
   "execution_count": 2,
   "metadata": {},
   "outputs": [],
   "source": [
    "items = pd.read_csv('final_project_data/items.csv')\n",
    "item_categories = pd.read_csv('final_project_data/item_categories.csv')\n",
    "sales_train = pd.read_csv('final_project_data/sales_train.csv.gz')\n",
    "sample_submission = pd.read_csv('final_project_data/sample_submission.csv.gz')\n",
    "shops = pd.read_csv('final_project_data/shops.csv')\n",
    "test = pd.read_csv('final_project_data/test.csv.gz')"
   ]
  },
  {
   "cell_type": "code",
   "execution_count": 3,
   "metadata": {},
   "outputs": [],
   "source": [
    "from IPython.core.interactiveshell import InteractiveShell\n",
    "InteractiveShell.ast_node_interactivity = \"all\""
   ]
  },
  {
   "cell_type": "code",
   "execution_count": 4,
   "metadata": {},
   "outputs": [
    {
     "data": {
      "text/html": [
       "<div>\n",
       "<style scoped>\n",
       "    .dataframe tbody tr th:only-of-type {\n",
       "        vertical-align: middle;\n",
       "    }\n",
       "\n",
       "    .dataframe tbody tr th {\n",
       "        vertical-align: top;\n",
       "    }\n",
       "\n",
       "    .dataframe thead th {\n",
       "        text-align: right;\n",
       "    }\n",
       "</style>\n",
       "<table border=\"1\" class=\"dataframe\">\n",
       "  <thead>\n",
       "    <tr style=\"text-align: right;\">\n",
       "      <th></th>\n",
       "      <th>item_name</th>\n",
       "      <th>item_id</th>\n",
       "      <th>item_category_id</th>\n",
       "    </tr>\n",
       "  </thead>\n",
       "  <tbody>\n",
       "    <tr>\n",
       "      <th>0</th>\n",
       "      <td>! ВО ВЛАСТИ НАВАЖДЕНИЯ (ПЛАСТ.)         D</td>\n",
       "      <td>0</td>\n",
       "      <td>40</td>\n",
       "    </tr>\n",
       "    <tr>\n",
       "      <th>1</th>\n",
       "      <td>!ABBYY FineReader 12 Professional Edition Full...</td>\n",
       "      <td>1</td>\n",
       "      <td>76</td>\n",
       "    </tr>\n",
       "    <tr>\n",
       "      <th>2</th>\n",
       "      <td>***В ЛУЧАХ СЛАВЫ   (UNV)                    D</td>\n",
       "      <td>2</td>\n",
       "      <td>40</td>\n",
       "    </tr>\n",
       "  </tbody>\n",
       "</table>\n",
       "</div>"
      ],
      "text/plain": [
       "                                           item_name  item_id  \\\n",
       "0          ! ВО ВЛАСТИ НАВАЖДЕНИЯ (ПЛАСТ.)         D        0   \n",
       "1  !ABBYY FineReader 12 Professional Edition Full...        1   \n",
       "2      ***В ЛУЧАХ СЛАВЫ   (UNV)                    D        2   \n",
       "\n",
       "   item_category_id  \n",
       "0                40  \n",
       "1                76  \n",
       "2                40  "
      ]
     },
     "execution_count": 4,
     "metadata": {},
     "output_type": "execute_result"
    },
    {
     "data": {
      "text/html": [
       "<div>\n",
       "<style scoped>\n",
       "    .dataframe tbody tr th:only-of-type {\n",
       "        vertical-align: middle;\n",
       "    }\n",
       "\n",
       "    .dataframe tbody tr th {\n",
       "        vertical-align: top;\n",
       "    }\n",
       "\n",
       "    .dataframe thead th {\n",
       "        text-align: right;\n",
       "    }\n",
       "</style>\n",
       "<table border=\"1\" class=\"dataframe\">\n",
       "  <thead>\n",
       "    <tr style=\"text-align: right;\">\n",
       "      <th></th>\n",
       "      <th>item_category_name</th>\n",
       "      <th>item_category_id</th>\n",
       "    </tr>\n",
       "  </thead>\n",
       "  <tbody>\n",
       "    <tr>\n",
       "      <th>0</th>\n",
       "      <td>PC - Гарнитуры/Наушники</td>\n",
       "      <td>0</td>\n",
       "    </tr>\n",
       "    <tr>\n",
       "      <th>1</th>\n",
       "      <td>Аксессуары - PS2</td>\n",
       "      <td>1</td>\n",
       "    </tr>\n",
       "    <tr>\n",
       "      <th>2</th>\n",
       "      <td>Аксессуары - PS3</td>\n",
       "      <td>2</td>\n",
       "    </tr>\n",
       "  </tbody>\n",
       "</table>\n",
       "</div>"
      ],
      "text/plain": [
       "        item_category_name  item_category_id\n",
       "0  PC - Гарнитуры/Наушники                 0\n",
       "1         Аксессуары - PS2                 1\n",
       "2         Аксессуары - PS3                 2"
      ]
     },
     "execution_count": 4,
     "metadata": {},
     "output_type": "execute_result"
    },
    {
     "name": "stdout",
     "output_type": "stream",
     "text": [
      "(2935849, 6)\n"
     ]
    },
    {
     "data": {
      "text/html": [
       "<div>\n",
       "<style scoped>\n",
       "    .dataframe tbody tr th:only-of-type {\n",
       "        vertical-align: middle;\n",
       "    }\n",
       "\n",
       "    .dataframe tbody tr th {\n",
       "        vertical-align: top;\n",
       "    }\n",
       "\n",
       "    .dataframe thead th {\n",
       "        text-align: right;\n",
       "    }\n",
       "</style>\n",
       "<table border=\"1\" class=\"dataframe\">\n",
       "  <thead>\n",
       "    <tr style=\"text-align: right;\">\n",
       "      <th></th>\n",
       "      <th>date</th>\n",
       "      <th>date_block_num</th>\n",
       "      <th>shop_id</th>\n",
       "      <th>item_id</th>\n",
       "      <th>item_price</th>\n",
       "      <th>item_cnt_day</th>\n",
       "    </tr>\n",
       "  </thead>\n",
       "  <tbody>\n",
       "    <tr>\n",
       "      <th>0</th>\n",
       "      <td>02.01.2013</td>\n",
       "      <td>0</td>\n",
       "      <td>59</td>\n",
       "      <td>22154</td>\n",
       "      <td>999.0</td>\n",
       "      <td>1.0</td>\n",
       "    </tr>\n",
       "    <tr>\n",
       "      <th>1</th>\n",
       "      <td>03.01.2013</td>\n",
       "      <td>0</td>\n",
       "      <td>25</td>\n",
       "      <td>2552</td>\n",
       "      <td>899.0</td>\n",
       "      <td>1.0</td>\n",
       "    </tr>\n",
       "    <tr>\n",
       "      <th>2</th>\n",
       "      <td>05.01.2013</td>\n",
       "      <td>0</td>\n",
       "      <td>25</td>\n",
       "      <td>2552</td>\n",
       "      <td>899.0</td>\n",
       "      <td>-1.0</td>\n",
       "    </tr>\n",
       "  </tbody>\n",
       "</table>\n",
       "</div>"
      ],
      "text/plain": [
       "         date  date_block_num  shop_id  item_id  item_price  item_cnt_day\n",
       "0  02.01.2013               0       59    22154       999.0           1.0\n",
       "1  03.01.2013               0       25     2552       899.0           1.0\n",
       "2  05.01.2013               0       25     2552       899.0          -1.0"
      ]
     },
     "execution_count": 4,
     "metadata": {},
     "output_type": "execute_result"
    },
    {
     "name": "stdout",
     "output_type": "stream",
     "text": [
      "(214200, 3)\n"
     ]
    },
    {
     "data": {
      "text/html": [
       "<div>\n",
       "<style scoped>\n",
       "    .dataframe tbody tr th:only-of-type {\n",
       "        vertical-align: middle;\n",
       "    }\n",
       "\n",
       "    .dataframe tbody tr th {\n",
       "        vertical-align: top;\n",
       "    }\n",
       "\n",
       "    .dataframe thead th {\n",
       "        text-align: right;\n",
       "    }\n",
       "</style>\n",
       "<table border=\"1\" class=\"dataframe\">\n",
       "  <thead>\n",
       "    <tr style=\"text-align: right;\">\n",
       "      <th></th>\n",
       "      <th>ID</th>\n",
       "      <th>shop_id</th>\n",
       "      <th>item_id</th>\n",
       "    </tr>\n",
       "  </thead>\n",
       "  <tbody>\n",
       "    <tr>\n",
       "      <th>0</th>\n",
       "      <td>0</td>\n",
       "      <td>5</td>\n",
       "      <td>5037</td>\n",
       "    </tr>\n",
       "    <tr>\n",
       "      <th>1</th>\n",
       "      <td>1</td>\n",
       "      <td>5</td>\n",
       "      <td>5320</td>\n",
       "    </tr>\n",
       "    <tr>\n",
       "      <th>2</th>\n",
       "      <td>2</td>\n",
       "      <td>5</td>\n",
       "      <td>5233</td>\n",
       "    </tr>\n",
       "  </tbody>\n",
       "</table>\n",
       "</div>"
      ],
      "text/plain": [
       "   ID  shop_id  item_id\n",
       "0   0        5     5037\n",
       "1   1        5     5320\n",
       "2   2        5     5233"
      ]
     },
     "execution_count": 4,
     "metadata": {},
     "output_type": "execute_result"
    },
    {
     "name": "stdout",
     "output_type": "stream",
     "text": [
      "(214200, 2)\n"
     ]
    },
    {
     "data": {
      "text/html": [
       "<div>\n",
       "<style scoped>\n",
       "    .dataframe tbody tr th:only-of-type {\n",
       "        vertical-align: middle;\n",
       "    }\n",
       "\n",
       "    .dataframe tbody tr th {\n",
       "        vertical-align: top;\n",
       "    }\n",
       "\n",
       "    .dataframe thead th {\n",
       "        text-align: right;\n",
       "    }\n",
       "</style>\n",
       "<table border=\"1\" class=\"dataframe\">\n",
       "  <thead>\n",
       "    <tr style=\"text-align: right;\">\n",
       "      <th></th>\n",
       "      <th>ID</th>\n",
       "      <th>item_cnt_month</th>\n",
       "    </tr>\n",
       "  </thead>\n",
       "  <tbody>\n",
       "    <tr>\n",
       "      <th>0</th>\n",
       "      <td>0</td>\n",
       "      <td>0.5</td>\n",
       "    </tr>\n",
       "    <tr>\n",
       "      <th>1</th>\n",
       "      <td>1</td>\n",
       "      <td>0.5</td>\n",
       "    </tr>\n",
       "    <tr>\n",
       "      <th>2</th>\n",
       "      <td>2</td>\n",
       "      <td>0.5</td>\n",
       "    </tr>\n",
       "  </tbody>\n",
       "</table>\n",
       "</div>"
      ],
      "text/plain": [
       "   ID  item_cnt_month\n",
       "0   0             0.5\n",
       "1   1             0.5\n",
       "2   2             0.5"
      ]
     },
     "execution_count": 4,
     "metadata": {},
     "output_type": "execute_result"
    }
   ],
   "source": [
    "items.head(3)\n",
    "item_categories.head(3)\n",
    "print(sales_train.shape)\n",
    "sales_train.head(3)\n",
    "print(test.shape)\n",
    "test.head(3)\n",
    "print(sample_submission.shape)\n",
    "sample_submission.head(3)"
   ]
  },
  {
   "cell_type": "markdown",
   "metadata": {},
   "source": [
    "I used separate notebook to draw histograms and scatter plots as well as prepare previous value benchmark prediction."
   ]
  },
  {
   "cell_type": "markdown",
   "metadata": {},
   "source": [
    "## Prepare some features\n",
    "Let's prepare features and dataset"
   ]
  },
  {
   "cell_type": "code",
   "execution_count": 5,
   "metadata": {},
   "outputs": [
    {
     "name": "stdout",
     "output_type": "stream",
     "text": [
      "   shop_id  item_id  date_block_num  item_cnt_day\n",
      "0        0       30               1          31.0\n",
      "1        0       31               1          11.0\n",
      "2        0       32               0           6.0\n",
      "3        0       32               1          10.0\n",
      "4        0       33               0           3.0\n",
      "   shop_id  item_id  date_block_num  item_cnt_month\n",
      "0       59    22154               0             1.0\n",
      "1       59     2552               0             0.0\n",
      "2       59     2554               0             0.0\n",
      "3       59     2555               0             0.0\n",
      "4       59     2564               0             0.0\n"
     ]
    }
   ],
   "source": [
    "sales = sales_train\n",
    "\n",
    "# Create \"grid\" with columns\n",
    "index_cols = ['shop_id', 'item_id', 'date_block_num']\n",
    "\n",
    "# For every month we create a grid from all shops/items combinations from that month\n",
    "# We can not use \n",
    "grid = [] \n",
    "for block_num in sales['date_block_num'].unique():\n",
    "    cur_shops = sales.loc[sales['date_block_num'] == block_num, 'shop_id'].unique()\n",
    "#     print(cur_shops)\n",
    "    cur_items = sales.loc[sales['date_block_num'] == block_num, 'item_id'].unique()\n",
    "#     print(cur_items)\n",
    "    grid.append(np.array(list(product(*[cur_shops, cur_items, [block_num]])),dtype='int32'))\n",
    "#     print(grid)\n",
    "\n",
    "# Turn the grid into a dataframe\n",
    "grid = pd.DataFrame(np.vstack(grid), columns = index_cols,dtype=np.int32)\n",
    "# print(grid)\n",
    "\n",
    "# Groupby data to get shop-item-month aggregates\n",
    "gb = sales.groupby(index_cols,as_index=False).agg({'item_cnt_day':'sum'})\n",
    "print(gb.head())\n",
    "gb.rename(columns={'item_cnt_day':'item_cnt_month'}, inplace=True)\n",
    "\n",
    "# Join it to the grid\n",
    "trainset = pd.merge(grid, gb, how='left', on=index_cols).fillna(0)\n",
    "print(trainset.head())"
   ]
  },
  {
   "cell_type": "markdown",
   "metadata": {},
   "source": [
    "Let's check how many items (shop_id, item_id, date_block_num) have zero sales per month"
   ]
  },
  {
   "cell_type": "code",
   "execution_count": 6,
   "metadata": {},
   "outputs": [
    {
     "data": {
      "text/plain": [
       "(10913850, 4)"
      ]
     },
     "execution_count": 6,
     "metadata": {},
     "output_type": "execute_result"
    },
    {
     "data": {
      "text/plain": [
       "(2935849, 6)"
      ]
     },
     "execution_count": 6,
     "metadata": {},
     "output_type": "execute_result"
    },
    {
     "data": {
      "text/plain": [
       "0.2690021394833171"
      ]
     },
     "execution_count": 6,
     "metadata": {},
     "output_type": "execute_result"
    }
   ],
   "source": [
    "trainset.shape\n",
    "sales_train.shape\n",
    "sales_train.shape[0] / trainset.shape[0]"
   ]
  },
  {
   "cell_type": "code",
   "execution_count": 7,
   "metadata": {},
   "outputs": [
    {
     "data": {
      "text/plain": [
       "(214200, 3)"
      ]
     },
     "execution_count": 7,
     "metadata": {},
     "output_type": "execute_result"
    },
    {
     "data": {
      "text/plain": [
       "(15246, 3)"
      ]
     },
     "execution_count": 7,
     "metadata": {},
     "output_type": "execute_result"
    }
   ],
   "source": [
    "test.shape\n",
    "test[~test.item_id.isin(trainset.item_id.unique())].shape"
   ]
  },
  {
   "cell_type": "markdown",
   "metadata": {},
   "source": [
    "So, we have 15246 rows which contains new items in a test set for which we will not have lag information."
   ]
  },
  {
   "cell_type": "code",
   "execution_count": 8,
   "metadata": {},
   "outputs": [
    {
     "data": {
      "text/plain": [
       "(5100,)"
      ]
     },
     "execution_count": 8,
     "metadata": {},
     "output_type": "execute_result"
    },
    {
     "data": {
      "text/plain": [
       "(21807,)"
      ]
     },
     "execution_count": 8,
     "metadata": {},
     "output_type": "execute_result"
    },
    {
     "data": {
      "text/plain": [
       "(363,)"
      ]
     },
     "execution_count": 8,
     "metadata": {},
     "output_type": "execute_result"
    },
    {
     "data": {
      "text/plain": [
       "42.0"
      ]
     },
     "execution_count": 8,
     "metadata": {},
     "output_type": "execute_result"
    }
   ],
   "source": [
    "test.item_id.unique().shape\n",
    "trainset.item_id.unique().shape\n",
    "test.item_id.unique()[np.isin(test.item_id.unique(), trainset.item_id.unique(), invert=True)].shape\n",
    "15246 / 363"
   ]
  },
  {
   "cell_type": "markdown",
   "metadata": {},
   "source": [
    "So, we have 214200 items in test set, from which 15246 contains new item_id, which is about 7% оf data and we will have to predict values for them based on item descriptions taken from item category.\n",
    "But, first let's try to do something for items for which we have historical data..."
   ]
  },
  {
   "cell_type": "code",
   "execution_count": 9,
   "metadata": {},
   "outputs": [
    {
     "data": {
      "text/html": [
       "<div>\n",
       "<style scoped>\n",
       "    .dataframe tbody tr th:only-of-type {\n",
       "        vertical-align: middle;\n",
       "    }\n",
       "\n",
       "    .dataframe tbody tr th {\n",
       "        vertical-align: top;\n",
       "    }\n",
       "\n",
       "    .dataframe thead th {\n",
       "        text-align: right;\n",
       "    }\n",
       "</style>\n",
       "<table border=\"1\" class=\"dataframe\">\n",
       "  <thead>\n",
       "    <tr style=\"text-align: right;\">\n",
       "      <th></th>\n",
       "      <th>shop_id</th>\n",
       "      <th>item_id</th>\n",
       "      <th>date_block_num</th>\n",
       "      <th>item_cnt_month</th>\n",
       "    </tr>\n",
       "  </thead>\n",
       "  <tbody>\n",
       "    <tr>\n",
       "      <th>0</th>\n",
       "      <td>5</td>\n",
       "      <td>5037</td>\n",
       "      <td>34</td>\n",
       "      <td>-1.0</td>\n",
       "    </tr>\n",
       "  </tbody>\n",
       "</table>\n",
       "</div>"
      ],
      "text/plain": [
       "   shop_id  item_id  date_block_num  item_cnt_month\n",
       "0        5     5037              34            -1.0"
      ]
     },
     "execution_count": 9,
     "metadata": {},
     "output_type": "execute_result"
    }
   ],
   "source": [
    "#let's merge trainset and testset together\n",
    "testset = test.drop(columns=['ID'])\n",
    "testset['date_block_num'] = 34\n",
    "testset['item_cnt_month'] = -1\n",
    "train_test_set = pd.concat([testset, trainset], sort=False)\n",
    "train_test_set.head(1)"
   ]
  },
  {
   "cell_type": "markdown",
   "metadata": {},
   "source": [
    "Now, make some features"
   ]
  },
  {
   "cell_type": "code",
   "execution_count": 10,
   "metadata": {},
   "outputs": [
    {
     "name": "stderr",
     "output_type": "stream",
     "text": [
      "/home/ykirpichev/miniconda3/envs/py37/lib/python3.6/site-packages/pandas/core/groupby/groupby.py:4656: FutureWarning: using a dict with renaming is deprecated and will be removed in a future version\n",
      "  return super(DataFrameGroupBy, self).aggregate(arg, *args, **kwargs)\n"
     ]
    },
    {
     "data": {
      "text/plain": [
       "84"
      ]
     },
     "execution_count": 10,
     "metadata": {},
     "output_type": "execute_result"
    },
    {
     "name": "stdout",
     "output_type": "stream",
     "text": [
      "   shop_id  item_id  date_block_num  item_cnt_month  item_cnt_month_shop  \\\n",
      "0        5     5037              34            -1.0                  0.0   \n",
      "1        5     5320              34            -1.0                  0.0   \n",
      "2        5     5233              34            -1.0                  0.0   \n",
      "3        5     5232              34            -1.0                  0.0   \n",
      "4        5     5268              34            -1.0                  0.0   \n",
      "\n",
      "   item_cnt_month_item  \n",
      "0                  0.0  \n",
      "1                  0.0  \n",
      "2                  0.0  \n",
      "3                  0.0  \n",
      "4                  0.0  \n"
     ]
    }
   ],
   "source": [
    "# Same as above but with shop-month aggregates\n",
    "gb = sales.groupby(['shop_id', 'date_block_num'],as_index=False).agg({'item_cnt_day':{'item_cnt_month_shop':'sum'}})\n",
    "gb.columns = [col[0] if col[-1]=='' else col[-1] for col in gb.columns.values]\n",
    "train_test_set = pd.merge(train_test_set, gb, how='left', on=['shop_id', 'date_block_num']).fillna(0)\n",
    "\n",
    "# Same as above but with item-month aggregates\n",
    "gb = sales.groupby(['item_id', 'date_block_num'],as_index=False).agg({'item_cnt_day':{'item_cnt_month_item':'sum'}})\n",
    "gb.columns = [col[0] if col[-1] == '' else col[-1] for col in gb.columns.values]\n",
    "train_test_set = pd.merge(train_test_set, gb, how='left', on=['item_id', 'date_block_num']).fillna(0)\n",
    "\n",
    "# Downcast dtypes from 64 to 32 bit to save memory\n",
    "train_test_set = downcast_dtypes(train_test_set)\n",
    "del gb \n",
    "gc.collect();\n",
    "print(train_test_set.head())"
   ]
  },
  {
   "cell_type": "code",
   "execution_count": 11,
   "metadata": {},
   "outputs": [
    {
     "name": "stdout",
     "output_type": "stream",
     "text": [
      "['item_cnt_month', 'item_cnt_month_item', 'item_cnt_month_shop']\n"
     ]
    }
   ],
   "source": [
    "# List of columns that we will use to create lags\n",
    "cols_to_rename = list(train_test_set.columns.difference(index_cols)) \n",
    "print(cols_to_rename)\n",
    "\n",
    "shift_range = [1, 2, 3, 4, 5, 6, 7, 12, 24]"
   ]
  },
  {
   "cell_type": "code",
   "execution_count": 12,
   "metadata": {},
   "outputs": [
    {
     "data": {
      "application/vnd.jupyter.widget-view+json": {
       "model_id": "00a592f4016549438a4581f143de58eb",
       "version_major": 2,
       "version_minor": 0
      },
      "text/plain": [
       "HBox(children=(IntProgress(value=0, max=9), HTML(value='')))"
      ]
     },
     "metadata": {},
     "output_type": "display_data"
    },
    {
     "name": "stdout",
     "output_type": "stream",
     "text": [
      "\n"
     ]
    }
   ],
   "source": [
    "for shift in tqdm_notebook(shift_range):\n",
    "    train_test_set_copy = train_test_set[index_cols + cols_to_rename].copy()\n",
    "    train_test_set_copy['date_block_num'] += shift\n",
    "    renamer = lambda x: '{}_lag_{}'.format(x, shift) if x in cols_to_rename else x\n",
    "    train_test_set_copy = train_test_set_copy.rename(columns=renamer)\n",
    "    train_test_set = train_test_set.merge(train_test_set_copy, on=index_cols, how='left').fillna(0)"
   ]
  },
  {
   "cell_type": "code",
   "execution_count": 13,
   "metadata": {},
   "outputs": [
    {
     "data": {
      "text/html": [
       "<div>\n",
       "<style scoped>\n",
       "    .dataframe tbody tr th:only-of-type {\n",
       "        vertical-align: middle;\n",
       "    }\n",
       "\n",
       "    .dataframe tbody tr th {\n",
       "        vertical-align: top;\n",
       "    }\n",
       "\n",
       "    .dataframe thead th {\n",
       "        text-align: right;\n",
       "    }\n",
       "</style>\n",
       "<table border=\"1\" class=\"dataframe\">\n",
       "  <thead>\n",
       "    <tr style=\"text-align: right;\">\n",
       "      <th></th>\n",
       "      <th>shop_id</th>\n",
       "      <th>item_id</th>\n",
       "      <th>date_block_num</th>\n",
       "      <th>item_cnt_month</th>\n",
       "      <th>item_cnt_month_shop</th>\n",
       "      <th>item_cnt_month_item</th>\n",
       "      <th>item_cnt_month_lag_1</th>\n",
       "      <th>item_cnt_month_item_lag_1</th>\n",
       "      <th>item_cnt_month_shop_lag_1</th>\n",
       "      <th>item_cnt_month_lag_2</th>\n",
       "      <th>item_cnt_month_item_lag_2</th>\n",
       "      <th>item_cnt_month_shop_lag_2</th>\n",
       "      <th>item_cnt_month_lag_3</th>\n",
       "      <th>item_cnt_month_item_lag_3</th>\n",
       "      <th>item_cnt_month_shop_lag_3</th>\n",
       "      <th>item_cnt_month_lag_4</th>\n",
       "      <th>item_cnt_month_item_lag_4</th>\n",
       "      <th>item_cnt_month_shop_lag_4</th>\n",
       "      <th>item_cnt_month_lag_5</th>\n",
       "      <th>item_cnt_month_item_lag_5</th>\n",
       "      <th>item_cnt_month_shop_lag_5</th>\n",
       "      <th>item_cnt_month_lag_6</th>\n",
       "      <th>item_cnt_month_item_lag_6</th>\n",
       "      <th>item_cnt_month_shop_lag_6</th>\n",
       "      <th>item_cnt_month_lag_7</th>\n",
       "      <th>item_cnt_month_item_lag_7</th>\n",
       "      <th>item_cnt_month_shop_lag_7</th>\n",
       "      <th>item_cnt_month_lag_12</th>\n",
       "      <th>item_cnt_month_item_lag_12</th>\n",
       "      <th>item_cnt_month_shop_lag_12</th>\n",
       "      <th>item_cnt_month_lag_24</th>\n",
       "      <th>item_cnt_month_item_lag_24</th>\n",
       "      <th>item_cnt_month_shop_lag_24</th>\n",
       "    </tr>\n",
       "  </thead>\n",
       "  <tbody>\n",
       "    <tr>\n",
       "      <th>0</th>\n",
       "      <td>5</td>\n",
       "      <td>5037</td>\n",
       "      <td>34</td>\n",
       "      <td>-1.0</td>\n",
       "      <td>0.0</td>\n",
       "      <td>0.0</td>\n",
       "      <td>0.0</td>\n",
       "      <td>25.0</td>\n",
       "      <td>1052.0</td>\n",
       "      <td>1.0</td>\n",
       "      <td>110.0</td>\n",
       "      <td>1092.0</td>\n",
       "      <td>3.0</td>\n",
       "      <td>119.0</td>\n",
       "      <td>1294.0</td>\n",
       "      <td>1.0</td>\n",
       "      <td>54.0</td>\n",
       "      <td>991.0</td>\n",
       "      <td>1.0</td>\n",
       "      <td>105.0</td>\n",
       "      <td>954.0</td>\n",
       "      <td>1.0</td>\n",
       "      <td>87.0</td>\n",
       "      <td>1012.0</td>\n",
       "      <td>0.0</td>\n",
       "      <td>28.0</td>\n",
       "      <td>1054.0</td>\n",
       "      <td>1.0</td>\n",
       "      <td>65.0</td>\n",
       "      <td>1445.0</td>\n",
       "      <td>0.0</td>\n",
       "      <td>0.0</td>\n",
       "      <td>0.0</td>\n",
       "    </tr>\n",
       "    <tr>\n",
       "      <th>1</th>\n",
       "      <td>5</td>\n",
       "      <td>5320</td>\n",
       "      <td>34</td>\n",
       "      <td>-1.0</td>\n",
       "      <td>0.0</td>\n",
       "      <td>0.0</td>\n",
       "      <td>0.0</td>\n",
       "      <td>0.0</td>\n",
       "      <td>0.0</td>\n",
       "      <td>0.0</td>\n",
       "      <td>0.0</td>\n",
       "      <td>0.0</td>\n",
       "      <td>0.0</td>\n",
       "      <td>0.0</td>\n",
       "      <td>0.0</td>\n",
       "      <td>0.0</td>\n",
       "      <td>0.0</td>\n",
       "      <td>0.0</td>\n",
       "      <td>0.0</td>\n",
       "      <td>0.0</td>\n",
       "      <td>0.0</td>\n",
       "      <td>0.0</td>\n",
       "      <td>0.0</td>\n",
       "      <td>0.0</td>\n",
       "      <td>0.0</td>\n",
       "      <td>0.0</td>\n",
       "      <td>0.0</td>\n",
       "      <td>0.0</td>\n",
       "      <td>0.0</td>\n",
       "      <td>0.0</td>\n",
       "      <td>0.0</td>\n",
       "      <td>0.0</td>\n",
       "      <td>0.0</td>\n",
       "    </tr>\n",
       "    <tr>\n",
       "      <th>2</th>\n",
       "      <td>5</td>\n",
       "      <td>5233</td>\n",
       "      <td>34</td>\n",
       "      <td>-1.0</td>\n",
       "      <td>0.0</td>\n",
       "      <td>0.0</td>\n",
       "      <td>1.0</td>\n",
       "      <td>42.0</td>\n",
       "      <td>1052.0</td>\n",
       "      <td>3.0</td>\n",
       "      <td>80.0</td>\n",
       "      <td>1092.0</td>\n",
       "      <td>1.0</td>\n",
       "      <td>150.0</td>\n",
       "      <td>1294.0</td>\n",
       "      <td>0.0</td>\n",
       "      <td>37.0</td>\n",
       "      <td>991.0</td>\n",
       "      <td>2.0</td>\n",
       "      <td>119.0</td>\n",
       "      <td>954.0</td>\n",
       "      <td>3.0</td>\n",
       "      <td>71.0</td>\n",
       "      <td>1012.0</td>\n",
       "      <td>0.0</td>\n",
       "      <td>8.0</td>\n",
       "      <td>1054.0</td>\n",
       "      <td>0.0</td>\n",
       "      <td>0.0</td>\n",
       "      <td>0.0</td>\n",
       "      <td>0.0</td>\n",
       "      <td>0.0</td>\n",
       "      <td>0.0</td>\n",
       "    </tr>\n",
       "  </tbody>\n",
       "</table>\n",
       "</div>"
      ],
      "text/plain": [
       "   shop_id  item_id  date_block_num  item_cnt_month  item_cnt_month_shop  \\\n",
       "0        5     5037              34            -1.0                  0.0   \n",
       "1        5     5320              34            -1.0                  0.0   \n",
       "2        5     5233              34            -1.0                  0.0   \n",
       "\n",
       "   item_cnt_month_item  item_cnt_month_lag_1  item_cnt_month_item_lag_1  \\\n",
       "0                  0.0                   0.0                       25.0   \n",
       "1                  0.0                   0.0                        0.0   \n",
       "2                  0.0                   1.0                       42.0   \n",
       "\n",
       "   item_cnt_month_shop_lag_1  item_cnt_month_lag_2  item_cnt_month_item_lag_2  \\\n",
       "0                     1052.0                   1.0                      110.0   \n",
       "1                        0.0                   0.0                        0.0   \n",
       "2                     1052.0                   3.0                       80.0   \n",
       "\n",
       "   item_cnt_month_shop_lag_2  item_cnt_month_lag_3  item_cnt_month_item_lag_3  \\\n",
       "0                     1092.0                   3.0                      119.0   \n",
       "1                        0.0                   0.0                        0.0   \n",
       "2                     1092.0                   1.0                      150.0   \n",
       "\n",
       "   item_cnt_month_shop_lag_3  item_cnt_month_lag_4  item_cnt_month_item_lag_4  \\\n",
       "0                     1294.0                   1.0                       54.0   \n",
       "1                        0.0                   0.0                        0.0   \n",
       "2                     1294.0                   0.0                       37.0   \n",
       "\n",
       "   item_cnt_month_shop_lag_4  item_cnt_month_lag_5  item_cnt_month_item_lag_5  \\\n",
       "0                      991.0                   1.0                      105.0   \n",
       "1                        0.0                   0.0                        0.0   \n",
       "2                      991.0                   2.0                      119.0   \n",
       "\n",
       "   item_cnt_month_shop_lag_5  item_cnt_month_lag_6  item_cnt_month_item_lag_6  \\\n",
       "0                      954.0                   1.0                       87.0   \n",
       "1                        0.0                   0.0                        0.0   \n",
       "2                      954.0                   3.0                       71.0   \n",
       "\n",
       "   item_cnt_month_shop_lag_6  item_cnt_month_lag_7  item_cnt_month_item_lag_7  \\\n",
       "0                     1012.0                   0.0                       28.0   \n",
       "1                        0.0                   0.0                        0.0   \n",
       "2                     1012.0                   0.0                        8.0   \n",
       "\n",
       "   item_cnt_month_shop_lag_7  item_cnt_month_lag_12  \\\n",
       "0                     1054.0                    1.0   \n",
       "1                        0.0                    0.0   \n",
       "2                     1054.0                    0.0   \n",
       "\n",
       "   item_cnt_month_item_lag_12  item_cnt_month_shop_lag_12  \\\n",
       "0                        65.0                      1445.0   \n",
       "1                         0.0                         0.0   \n",
       "2                         0.0                         0.0   \n",
       "\n",
       "   item_cnt_month_lag_24  item_cnt_month_item_lag_24  \\\n",
       "0                    0.0                         0.0   \n",
       "1                    0.0                         0.0   \n",
       "2                    0.0                         0.0   \n",
       "\n",
       "   item_cnt_month_shop_lag_24  \n",
       "0                         0.0  \n",
       "1                         0.0  \n",
       "2                         0.0  "
      ]
     },
     "execution_count": 13,
     "metadata": {},
     "output_type": "execute_result"
    }
   ],
   "source": [
    "train_test_set.head(3)"
   ]
  },
  {
   "cell_type": "code",
   "execution_count": 14,
   "metadata": {},
   "outputs": [],
   "source": [
    "train_test_set = train_test_set.merge(items[['item_id', 'item_category_id']], how='left', on='item_id')\n",
    "train_test_set = downcast_dtypes(train_test_set)\n",
    "gc.collect();"
   ]
  },
  {
   "cell_type": "code",
   "execution_count": 15,
   "metadata": {},
   "outputs": [
    {
     "data": {
      "text/html": [
       "<div>\n",
       "<style scoped>\n",
       "    .dataframe tbody tr th:only-of-type {\n",
       "        vertical-align: middle;\n",
       "    }\n",
       "\n",
       "    .dataframe tbody tr th {\n",
       "        vertical-align: top;\n",
       "    }\n",
       "\n",
       "    .dataframe thead th {\n",
       "        text-align: right;\n",
       "    }\n",
       "</style>\n",
       "<table border=\"1\" class=\"dataframe\">\n",
       "  <thead>\n",
       "    <tr style=\"text-align: right;\">\n",
       "      <th></th>\n",
       "      <th>shop_id</th>\n",
       "      <th>item_id</th>\n",
       "      <th>date_block_num</th>\n",
       "      <th>item_cnt_month</th>\n",
       "      <th>item_cnt_month_shop</th>\n",
       "      <th>item_cnt_month_item</th>\n",
       "      <th>item_cnt_month_lag_1</th>\n",
       "      <th>item_cnt_month_item_lag_1</th>\n",
       "      <th>item_cnt_month_shop_lag_1</th>\n",
       "      <th>item_cnt_month_lag_2</th>\n",
       "      <th>item_cnt_month_item_lag_2</th>\n",
       "      <th>item_cnt_month_shop_lag_2</th>\n",
       "      <th>item_cnt_month_lag_3</th>\n",
       "      <th>item_cnt_month_item_lag_3</th>\n",
       "      <th>item_cnt_month_shop_lag_3</th>\n",
       "      <th>item_cnt_month_lag_4</th>\n",
       "      <th>item_cnt_month_item_lag_4</th>\n",
       "      <th>item_cnt_month_shop_lag_4</th>\n",
       "      <th>item_cnt_month_lag_5</th>\n",
       "      <th>item_cnt_month_item_lag_5</th>\n",
       "      <th>item_cnt_month_shop_lag_5</th>\n",
       "      <th>item_cnt_month_lag_6</th>\n",
       "      <th>item_cnt_month_item_lag_6</th>\n",
       "      <th>item_cnt_month_shop_lag_6</th>\n",
       "      <th>item_cnt_month_lag_7</th>\n",
       "      <th>item_cnt_month_item_lag_7</th>\n",
       "      <th>item_cnt_month_shop_lag_7</th>\n",
       "      <th>item_cnt_month_lag_12</th>\n",
       "      <th>item_cnt_month_item_lag_12</th>\n",
       "      <th>item_cnt_month_shop_lag_12</th>\n",
       "      <th>item_cnt_month_lag_24</th>\n",
       "      <th>item_cnt_month_item_lag_24</th>\n",
       "      <th>item_cnt_month_shop_lag_24</th>\n",
       "      <th>item_category_id</th>\n",
       "    </tr>\n",
       "  </thead>\n",
       "  <tbody>\n",
       "    <tr>\n",
       "      <th>0</th>\n",
       "      <td>5</td>\n",
       "      <td>5037</td>\n",
       "      <td>34</td>\n",
       "      <td>-1.0</td>\n",
       "      <td>0.0</td>\n",
       "      <td>0.0</td>\n",
       "      <td>0.0</td>\n",
       "      <td>25.0</td>\n",
       "      <td>1052.0</td>\n",
       "      <td>1.0</td>\n",
       "      <td>110.0</td>\n",
       "      <td>1092.0</td>\n",
       "      <td>3.0</td>\n",
       "      <td>119.0</td>\n",
       "      <td>1294.0</td>\n",
       "      <td>1.0</td>\n",
       "      <td>54.0</td>\n",
       "      <td>991.0</td>\n",
       "      <td>1.0</td>\n",
       "      <td>105.0</td>\n",
       "      <td>954.0</td>\n",
       "      <td>1.0</td>\n",
       "      <td>87.0</td>\n",
       "      <td>1012.0</td>\n",
       "      <td>0.0</td>\n",
       "      <td>28.0</td>\n",
       "      <td>1054.0</td>\n",
       "      <td>1.0</td>\n",
       "      <td>65.0</td>\n",
       "      <td>1445.0</td>\n",
       "      <td>0.0</td>\n",
       "      <td>0.0</td>\n",
       "      <td>0.0</td>\n",
       "      <td>19</td>\n",
       "    </tr>\n",
       "    <tr>\n",
       "      <th>1</th>\n",
       "      <td>5</td>\n",
       "      <td>5320</td>\n",
       "      <td>34</td>\n",
       "      <td>-1.0</td>\n",
       "      <td>0.0</td>\n",
       "      <td>0.0</td>\n",
       "      <td>0.0</td>\n",
       "      <td>0.0</td>\n",
       "      <td>0.0</td>\n",
       "      <td>0.0</td>\n",
       "      <td>0.0</td>\n",
       "      <td>0.0</td>\n",
       "      <td>0.0</td>\n",
       "      <td>0.0</td>\n",
       "      <td>0.0</td>\n",
       "      <td>0.0</td>\n",
       "      <td>0.0</td>\n",
       "      <td>0.0</td>\n",
       "      <td>0.0</td>\n",
       "      <td>0.0</td>\n",
       "      <td>0.0</td>\n",
       "      <td>0.0</td>\n",
       "      <td>0.0</td>\n",
       "      <td>0.0</td>\n",
       "      <td>0.0</td>\n",
       "      <td>0.0</td>\n",
       "      <td>0.0</td>\n",
       "      <td>0.0</td>\n",
       "      <td>0.0</td>\n",
       "      <td>0.0</td>\n",
       "      <td>0.0</td>\n",
       "      <td>0.0</td>\n",
       "      <td>0.0</td>\n",
       "      <td>55</td>\n",
       "    </tr>\n",
       "    <tr>\n",
       "      <th>2</th>\n",
       "      <td>5</td>\n",
       "      <td>5233</td>\n",
       "      <td>34</td>\n",
       "      <td>-1.0</td>\n",
       "      <td>0.0</td>\n",
       "      <td>0.0</td>\n",
       "      <td>1.0</td>\n",
       "      <td>42.0</td>\n",
       "      <td>1052.0</td>\n",
       "      <td>3.0</td>\n",
       "      <td>80.0</td>\n",
       "      <td>1092.0</td>\n",
       "      <td>1.0</td>\n",
       "      <td>150.0</td>\n",
       "      <td>1294.0</td>\n",
       "      <td>0.0</td>\n",
       "      <td>37.0</td>\n",
       "      <td>991.0</td>\n",
       "      <td>2.0</td>\n",
       "      <td>119.0</td>\n",
       "      <td>954.0</td>\n",
       "      <td>3.0</td>\n",
       "      <td>71.0</td>\n",
       "      <td>1012.0</td>\n",
       "      <td>0.0</td>\n",
       "      <td>8.0</td>\n",
       "      <td>1054.0</td>\n",
       "      <td>0.0</td>\n",
       "      <td>0.0</td>\n",
       "      <td>0.0</td>\n",
       "      <td>0.0</td>\n",
       "      <td>0.0</td>\n",
       "      <td>0.0</td>\n",
       "      <td>19</td>\n",
       "    </tr>\n",
       "    <tr>\n",
       "      <th>3</th>\n",
       "      <td>5</td>\n",
       "      <td>5232</td>\n",
       "      <td>34</td>\n",
       "      <td>-1.0</td>\n",
       "      <td>0.0</td>\n",
       "      <td>0.0</td>\n",
       "      <td>0.0</td>\n",
       "      <td>28.0</td>\n",
       "      <td>1052.0</td>\n",
       "      <td>0.0</td>\n",
       "      <td>48.0</td>\n",
       "      <td>1092.0</td>\n",
       "      <td>1.0</td>\n",
       "      <td>65.0</td>\n",
       "      <td>1294.0</td>\n",
       "      <td>0.0</td>\n",
       "      <td>0.0</td>\n",
       "      <td>0.0</td>\n",
       "      <td>0.0</td>\n",
       "      <td>0.0</td>\n",
       "      <td>0.0</td>\n",
       "      <td>0.0</td>\n",
       "      <td>0.0</td>\n",
       "      <td>0.0</td>\n",
       "      <td>0.0</td>\n",
       "      <td>0.0</td>\n",
       "      <td>0.0</td>\n",
       "      <td>0.0</td>\n",
       "      <td>0.0</td>\n",
       "      <td>0.0</td>\n",
       "      <td>0.0</td>\n",
       "      <td>0.0</td>\n",
       "      <td>0.0</td>\n",
       "      <td>23</td>\n",
       "    </tr>\n",
       "    <tr>\n",
       "      <th>4</th>\n",
       "      <td>5</td>\n",
       "      <td>5268</td>\n",
       "      <td>34</td>\n",
       "      <td>-1.0</td>\n",
       "      <td>0.0</td>\n",
       "      <td>0.0</td>\n",
       "      <td>0.0</td>\n",
       "      <td>0.0</td>\n",
       "      <td>0.0</td>\n",
       "      <td>0.0</td>\n",
       "      <td>0.0</td>\n",
       "      <td>0.0</td>\n",
       "      <td>0.0</td>\n",
       "      <td>0.0</td>\n",
       "      <td>0.0</td>\n",
       "      <td>0.0</td>\n",
       "      <td>0.0</td>\n",
       "      <td>0.0</td>\n",
       "      <td>0.0</td>\n",
       "      <td>0.0</td>\n",
       "      <td>0.0</td>\n",
       "      <td>0.0</td>\n",
       "      <td>0.0</td>\n",
       "      <td>0.0</td>\n",
       "      <td>0.0</td>\n",
       "      <td>0.0</td>\n",
       "      <td>0.0</td>\n",
       "      <td>0.0</td>\n",
       "      <td>0.0</td>\n",
       "      <td>0.0</td>\n",
       "      <td>0.0</td>\n",
       "      <td>0.0</td>\n",
       "      <td>0.0</td>\n",
       "      <td>20</td>\n",
       "    </tr>\n",
       "  </tbody>\n",
       "</table>\n",
       "</div>"
      ],
      "text/plain": [
       "   shop_id  item_id  date_block_num  item_cnt_month  item_cnt_month_shop  \\\n",
       "0        5     5037              34            -1.0                  0.0   \n",
       "1        5     5320              34            -1.0                  0.0   \n",
       "2        5     5233              34            -1.0                  0.0   \n",
       "3        5     5232              34            -1.0                  0.0   \n",
       "4        5     5268              34            -1.0                  0.0   \n",
       "\n",
       "   item_cnt_month_item  item_cnt_month_lag_1  item_cnt_month_item_lag_1  \\\n",
       "0                  0.0                   0.0                       25.0   \n",
       "1                  0.0                   0.0                        0.0   \n",
       "2                  0.0                   1.0                       42.0   \n",
       "3                  0.0                   0.0                       28.0   \n",
       "4                  0.0                   0.0                        0.0   \n",
       "\n",
       "   item_cnt_month_shop_lag_1  item_cnt_month_lag_2  item_cnt_month_item_lag_2  \\\n",
       "0                     1052.0                   1.0                      110.0   \n",
       "1                        0.0                   0.0                        0.0   \n",
       "2                     1052.0                   3.0                       80.0   \n",
       "3                     1052.0                   0.0                       48.0   \n",
       "4                        0.0                   0.0                        0.0   \n",
       "\n",
       "   item_cnt_month_shop_lag_2  item_cnt_month_lag_3  item_cnt_month_item_lag_3  \\\n",
       "0                     1092.0                   3.0                      119.0   \n",
       "1                        0.0                   0.0                        0.0   \n",
       "2                     1092.0                   1.0                      150.0   \n",
       "3                     1092.0                   1.0                       65.0   \n",
       "4                        0.0                   0.0                        0.0   \n",
       "\n",
       "   item_cnt_month_shop_lag_3  item_cnt_month_lag_4  item_cnt_month_item_lag_4  \\\n",
       "0                     1294.0                   1.0                       54.0   \n",
       "1                        0.0                   0.0                        0.0   \n",
       "2                     1294.0                   0.0                       37.0   \n",
       "3                     1294.0                   0.0                        0.0   \n",
       "4                        0.0                   0.0                        0.0   \n",
       "\n",
       "   item_cnt_month_shop_lag_4  item_cnt_month_lag_5  item_cnt_month_item_lag_5  \\\n",
       "0                      991.0                   1.0                      105.0   \n",
       "1                        0.0                   0.0                        0.0   \n",
       "2                      991.0                   2.0                      119.0   \n",
       "3                        0.0                   0.0                        0.0   \n",
       "4                        0.0                   0.0                        0.0   \n",
       "\n",
       "   item_cnt_month_shop_lag_5  item_cnt_month_lag_6  item_cnt_month_item_lag_6  \\\n",
       "0                      954.0                   1.0                       87.0   \n",
       "1                        0.0                   0.0                        0.0   \n",
       "2                      954.0                   3.0                       71.0   \n",
       "3                        0.0                   0.0                        0.0   \n",
       "4                        0.0                   0.0                        0.0   \n",
       "\n",
       "   item_cnt_month_shop_lag_6  item_cnt_month_lag_7  item_cnt_month_item_lag_7  \\\n",
       "0                     1012.0                   0.0                       28.0   \n",
       "1                        0.0                   0.0                        0.0   \n",
       "2                     1012.0                   0.0                        8.0   \n",
       "3                        0.0                   0.0                        0.0   \n",
       "4                        0.0                   0.0                        0.0   \n",
       "\n",
       "   item_cnt_month_shop_lag_7  item_cnt_month_lag_12  \\\n",
       "0                     1054.0                    1.0   \n",
       "1                        0.0                    0.0   \n",
       "2                     1054.0                    0.0   \n",
       "3                        0.0                    0.0   \n",
       "4                        0.0                    0.0   \n",
       "\n",
       "   item_cnt_month_item_lag_12  item_cnt_month_shop_lag_12  \\\n",
       "0                        65.0                      1445.0   \n",
       "1                         0.0                         0.0   \n",
       "2                         0.0                         0.0   \n",
       "3                         0.0                         0.0   \n",
       "4                         0.0                         0.0   \n",
       "\n",
       "   item_cnt_month_lag_24  item_cnt_month_item_lag_24  \\\n",
       "0                    0.0                         0.0   \n",
       "1                    0.0                         0.0   \n",
       "2                    0.0                         0.0   \n",
       "3                    0.0                         0.0   \n",
       "4                    0.0                         0.0   \n",
       "\n",
       "   item_cnt_month_shop_lag_24  item_category_id  \n",
       "0                         0.0                19  \n",
       "1                         0.0                55  \n",
       "2                         0.0                19  \n",
       "3                         0.0                23  \n",
       "4                         0.0                20  "
      ]
     },
     "execution_count": 15,
     "metadata": {},
     "output_type": "execute_result"
    }
   ],
   "source": [
    "train_test_set.head()"
   ]
  },
  {
   "cell_type": "code",
   "execution_count": 16,
   "metadata": {},
   "outputs": [],
   "source": [
    "#Number of month from last sale of shop/item (Use info from past)\n",
    "#Number of month from last sale of item(Use info from past)¶\n",
    "#Item name (Tfidf text feature)\n",
    "train_test_set.item_cnt_month = train_test_set.item_cnt_month.fillna(0).clip(0,20)"
   ]
  },
  {
   "cell_type": "code",
   "execution_count": 17,
   "metadata": {},
   "outputs": [],
   "source": [
    "train_test_set.to_csv('train_test_set.csv')"
   ]
  },
  {
   "cell_type": "code",
   "execution_count": 19,
   "metadata": {},
   "outputs": [],
   "source": [
    "train_test_set = pd.read_csv('train_test_set.csv')"
   ]
  },
  {
   "cell_type": "markdown",
   "metadata": {},
   "source": [
    "# Fitting model\n",
    "Try to use different models, do hyperparameters turning using train and validation set.\n",
    "Submit prediction for the model trained on full train set.\n",
    "\n",
    "Try the following:\n",
    "- XGBoost\n",
    "- CatBoost\n",
    "- SVM\n",
    "- LinearRegression\n",
    "\n",
    "TODO: SVM (too long to wait), GBDT, Neural Network, kNN\n",
    "This set contains models from 4 different classes, so it is the most diverse set and it should be in general case be the best for stacking"
   ]
  },
  {
   "cell_type": "code",
   "execution_count": 84,
   "metadata": {},
   "outputs": [
    {
     "data": {
      "text/plain": [
       "Index(['Unnamed: 0', 'shop_id', 'item_id', 'date_block_num', 'item_cnt_month',\n",
       "       'item_cnt_month_shop', 'item_cnt_month_item', 'item_cnt_month_lag_1',\n",
       "       'item_cnt_month_item_lag_1', 'item_cnt_month_shop_lag_1',\n",
       "       'item_cnt_month_lag_2', 'item_cnt_month_item_lag_2',\n",
       "       'item_cnt_month_shop_lag_2', 'item_cnt_month_lag_3',\n",
       "       'item_cnt_month_item_lag_3', 'item_cnt_month_shop_lag_3',\n",
       "       'item_cnt_month_lag_4', 'item_cnt_month_item_lag_4',\n",
       "       'item_cnt_month_shop_lag_4', 'item_cnt_month_lag_5',\n",
       "       'item_cnt_month_item_lag_5', 'item_cnt_month_shop_lag_5',\n",
       "       'item_cnt_month_lag_6', 'item_cnt_month_item_lag_6',\n",
       "       'item_cnt_month_shop_lag_6', 'item_cnt_month_lag_7',\n",
       "       'item_cnt_month_item_lag_7', 'item_cnt_month_shop_lag_7',\n",
       "       'item_cnt_month_lag_12', 'item_cnt_month_item_lag_12',\n",
       "       'item_cnt_month_shop_lag_12', 'item_cnt_month_lag_24',\n",
       "       'item_cnt_month_item_lag_24', 'item_cnt_month_shop_lag_24',\n",
       "       'item_category_id'],\n",
       "      dtype='object')"
      ]
     },
     "execution_count": 84,
     "metadata": {},
     "output_type": "execute_result"
    }
   ],
   "source": [
    "train_test_set.columns"
   ]
  },
  {
   "cell_type": "code",
   "execution_count": 21,
   "metadata": {},
   "outputs": [],
   "source": [
    "train_time_min = 0\n",
    "train_time_max = 32\n",
    "train_time_val = 33\n",
    "train_time_test = 34\n",
    "\n",
    "train_set = train_test_set[(train_test_set.date_block_num >= train_time_min) & \n",
    "                           (train_test_set.date_block_num <= train_time_max)]\n",
    "drop_columns = ['item_cnt_month', 'item_cnt_month_shop', 'item_cnt_month_item']\n",
    "train_set_y = train_set.item_cnt_month\n",
    "train_set_x = train_set.drop(columns=drop_columns)\n",
    "\n",
    "\n",
    "val_set = train_test_set[(train_test_set.date_block_num == train_time_val)]\n",
    "val_set_y = val_set.item_cnt_month\n",
    "val_set_x = val_set.drop(columns=drop_columns)\n",
    "\n",
    "\n",
    "test_set = train_test_set[(train_test_set.date_block_num == train_time_test)]\n",
    "test_set_x = test_set.drop(columns=drop_columns)\n",
    "test_set_y = test_set.item_cnt_month\n",
    "\n",
    "full_train_set = train_test_set[(train_test_set.date_block_num >= train_time_min) &\n",
    "                                (train_test_set.date_block_num <= train_time_val)]\n",
    "full_train_set_x = full_train_set.drop(columns=drop_columns)\n",
    "full_train_set_y = full_train_set.item_cnt_month"
   ]
  },
  {
   "cell_type": "markdown",
   "metadata": {},
   "source": [
    "## XGBRegression"
   ]
  },
  {
   "cell_type": "code",
   "execution_count": 63,
   "metadata": {},
   "outputs": [
    {
     "name": "stdout",
     "output_type": "stream",
     "text": [
      "[0]\tvalidation_0-rmse:1.12993\n",
      "[1]\tvalidation_0-rmse:1.10356\n",
      "[2]\tvalidation_0-rmse:1.08196\n",
      "[3]\tvalidation_0-rmse:1.06437\n",
      "[4]\tvalidation_0-rmse:1.04903\n",
      "[5]\tvalidation_0-rmse:1.03615\n",
      "[6]\tvalidation_0-rmse:1.02533\n",
      "[7]\tvalidation_0-rmse:1.01648\n",
      "[8]\tvalidation_0-rmse:1.00893\n",
      "[9]\tvalidation_0-rmse:1.00268\n",
      "[10]\tvalidation_0-rmse:0.997432\n",
      "[11]\tvalidation_0-rmse:0.993085\n",
      "[12]\tvalidation_0-rmse:0.988875\n",
      "[13]\tvalidation_0-rmse:0.985875\n",
      "[14]\tvalidation_0-rmse:0.983124\n",
      "[15]\tvalidation_0-rmse:0.980945\n",
      "[16]\tvalidation_0-rmse:0.979304\n",
      "[17]\tvalidation_0-rmse:0.977178\n",
      "[18]\tvalidation_0-rmse:0.975725\n",
      "[19]\tvalidation_0-rmse:0.974137\n",
      "[20]\tvalidation_0-rmse:0.97299\n",
      "[21]\tvalidation_0-rmse:0.972265\n",
      "[22]\tvalidation_0-rmse:0.971785\n",
      "[23]\tvalidation_0-rmse:0.970655\n",
      "[24]\tvalidation_0-rmse:0.969756\n",
      "[25]\tvalidation_0-rmse:0.969307\n",
      "[26]\tvalidation_0-rmse:0.968531\n",
      "[27]\tvalidation_0-rmse:0.968134\n",
      "[28]\tvalidation_0-rmse:0.967677\n",
      "[29]\tvalidation_0-rmse:0.967131\n",
      "[30]\tvalidation_0-rmse:0.966345\n",
      "[31]\tvalidation_0-rmse:0.965672\n",
      "[32]\tvalidation_0-rmse:0.965555\n",
      "[33]\tvalidation_0-rmse:0.965048\n",
      "[34]\tvalidation_0-rmse:0.964819\n",
      "[35]\tvalidation_0-rmse:0.964408\n",
      "[36]\tvalidation_0-rmse:0.964233\n",
      "[37]\tvalidation_0-rmse:0.963967\n",
      "[38]\tvalidation_0-rmse:0.964014\n",
      "[39]\tvalidation_0-rmse:0.963784\n",
      "[45]\tvalidation_0-rmse:0.962538\n",
      "[46]\tvalidation_0-rmse:0.962372\n",
      "[47]\tvalidation_0-rmse:0.962311\n",
      "[48]\tvalidation_0-rmse:0.962011\n",
      "[49]\tvalidation_0-rmse:0.961853\n",
      "[50]\tvalidation_0-rmse:0.961775\n",
      "[51]\tvalidation_0-rmse:0.961521\n",
      "[52]\tvalidation_0-rmse:0.961428\n",
      "[53]\tvalidation_0-rmse:0.961334\n",
      "[54]\tvalidation_0-rmse:0.961051\n",
      "[55]\tvalidation_0-rmse:0.96072\n",
      "[56]\tvalidation_0-rmse:0.960548\n",
      "[57]\tvalidation_0-rmse:0.96045\n",
      "[58]\tvalidation_0-rmse:0.960267\n",
      "[59]\tvalidation_0-rmse:0.959904\n",
      "[60]\tvalidation_0-rmse:0.959932\n",
      "[61]\tvalidation_0-rmse:0.959714\n",
      "[62]\tvalidation_0-rmse:0.959467\n",
      "[63]\tvalidation_0-rmse:0.959391\n",
      "[64]\tvalidation_0-rmse:0.959353\n",
      "[65]\tvalidation_0-rmse:0.959232\n",
      "[66]\tvalidation_0-rmse:0.959197\n",
      "[67]\tvalidation_0-rmse:0.95906\n",
      "[68]\tvalidation_0-rmse:0.95898\n",
      "[69]\tvalidation_0-rmse:0.958722\n",
      "[70]\tvalidation_0-rmse:0.958607\n",
      "[71]\tvalidation_0-rmse:0.958552\n",
      "[72]\tvalidation_0-rmse:0.958465\n",
      "[73]\tvalidation_0-rmse:0.958335\n",
      "[74]\tvalidation_0-rmse:0.958012\n",
      "[75]\tvalidation_0-rmse:0.957986\n",
      "[76]\tvalidation_0-rmse:0.957888\n",
      "[77]\tvalidation_0-rmse:0.957467\n",
      "[78]\tvalidation_0-rmse:0.95725\n",
      "[79]\tvalidation_0-rmse:0.957178\n",
      "[80]\tvalidation_0-rmse:0.956994\n",
      "[81]\tvalidation_0-rmse:0.956918\n",
      "[82]\tvalidation_0-rmse:0.956936\n",
      "[83]\tvalidation_0-rmse:0.956908\n",
      "[84]\tvalidation_0-rmse:0.95675\n",
      "[85]\tvalidation_0-rmse:0.956583\n",
      "[86]\tvalidation_0-rmse:0.95636\n",
      "[87]\tvalidation_0-rmse:0.956301\n",
      "[88]\tvalidation_0-rmse:0.956109\n",
      "[89]\tvalidation_0-rmse:0.955958\n",
      "[90]\tvalidation_0-rmse:0.95568\n",
      "[91]\tvalidation_0-rmse:0.955766\n",
      "[92]\tvalidation_0-rmse:0.955642\n",
      "[93]\tvalidation_0-rmse:0.955491\n",
      "[94]\tvalidation_0-rmse:0.955404\n",
      "[95]\tvalidation_0-rmse:0.955334\n",
      "[96]\tvalidation_0-rmse:0.955275\n",
      "[97]\tvalidation_0-rmse:0.955162\n",
      "[98]\tvalidation_0-rmse:0.955089\n",
      "[99]\tvalidation_0-rmse:0.955062\n"
     ]
    },
    {
     "data": {
      "text/plain": [
       "XGBRegressor(base_score=0.5, booster='gbtree', colsample_bylevel=1,\n",
       "       colsample_bytree=1, gamma=0, importance_type='gain',\n",
       "       learning_rate=0.1, max_delta_step=0, max_depth=3,\n",
       "       min_child_weight=1, missing=None, n_estimators=100, n_jobs=1,\n",
       "       nthread=None, objective='reg:linear', random_state=0, reg_alpha=0,\n",
       "       reg_lambda=1, scale_pos_weight=1, seed=None, silent=True,\n",
       "       subsample=1)"
      ]
     },
     "execution_count": 63,
     "metadata": {},
     "output_type": "execute_result"
    }
   ],
   "source": [
    "# Use train_set_x/train_set_y and val_set_x/val_set_y to find optimal hyperparameters\n",
    "xgb_model = xgb.XGBRegressor()\n",
    "\n",
    "eval_set = [(val_set_x.values, val_set_y.values)]\n",
    "xgb_model.fit(X=train_set_x.values, y=train_set_y.values, eval_metric='rmse',\n",
    "          eval_set=eval_set)"
   ]
  },
  {
   "cell_type": "code",
   "execution_count": 98,
   "metadata": {},
   "outputs": [
    {
     "data": {
      "text/plain": [
       "XGBRegressor(base_score=0.5, booster='gbtree', colsample_bylevel=1,\n",
       "       colsample_bytree=1, gamma=0, importance_type='gain',\n",
       "       learning_rate=0.1, max_delta_step=0, max_depth=3,\n",
       "       min_child_weight=1, missing=None, n_estimators=100, n_jobs=1,\n",
       "       nthread=None, objective='reg:linear', random_state=0, reg_alpha=0,\n",
       "       reg_lambda=1, scale_pos_weight=1, seed=None, silent=True,\n",
       "       subsample=1)"
      ]
     },
     "execution_count": 98,
     "metadata": {},
     "output_type": "execute_result"
    }
   ],
   "source": [
    "# Use full_train_set_x/full_train_set_y and test_set_x to predict final values\n",
    "\n",
    "model = xgb.XGBRegressor()\n",
    "\n",
    "model.fit(X=full_train_set_x.values, y=full_train_set_y.values, eval_metric='rmse', nthread = 8)"
   ]
  },
  {
   "cell_type": "code",
   "execution_count": 101,
   "metadata": {},
   "outputs": [],
   "source": [
    "pred = np.clip(model.predict(test_set_x.values), 0, 20)\n",
    "df = pd.DataFrame(pred, columns = ['item_cnt_month'])\n",
    "df['ID'] = df.index\n",
    "df = df.set_index('ID')\n",
    "df.to_csv('xgb_pred.csv')"
   ]
  },
  {
   "cell_type": "code",
   "execution_count": 102,
   "metadata": {},
   "outputs": [
    {
     "name": "stdout",
     "output_type": "stream",
     "text": [
      "100%|███████████████████████████████████████| 3.46M/3.46M [00:06<00:00, 562kB/s]\n",
      "Successfully submitted to Final project: predict future sales"
     ]
    }
   ],
   "source": [
    "!kaggle competitions submit -c competitive-data-science-final-project -f xgb_pred.csv -m \"Predict using XGBoost model\""
   ]
  },
  {
   "cell_type": "code",
   "execution_count": 103,
   "metadata": {},
   "outputs": [
    {
     "name": "stdout",
     "output_type": "stream",
     "text": [
      "100%|███████████████████████████████████████| 3.46M/3.46M [00:05<00:00, 700kB/s]\n",
      "Successfully submitted to Predict Future Sales"
     ]
    }
   ],
   "source": [
    "!kaggle competitions submit -c competitive-data-science-predict-future-sales -f xgb_pred.csv -m \"Predict using XGBoost model\""
   ]
  },
  {
   "cell_type": "markdown",
   "metadata": {},
   "source": [
    "## LinearRegression"
   ]
  },
  {
   "cell_type": "code",
   "execution_count": 23,
   "metadata": {},
   "outputs": [
    {
     "data": {
      "text/plain": [
       "LinearRegression(copy_X=True, fit_intercept=True, n_jobs=1, normalize=False)"
      ]
     },
     "execution_count": 23,
     "metadata": {},
     "output_type": "execute_result"
    }
   ],
   "source": [
    "# Now train SVM model and make linear combination of SVM and XGB models\n",
    "lr_model = LinearRegression()\n",
    "lr_model.fit(X=full_train_set_x.values, y=full_train_set_y.values)"
   ]
  },
  {
   "cell_type": "code",
   "execution_count": 24,
   "metadata": {},
   "outputs": [],
   "source": [
    "lr_pred = np.clip(lr_model.predict(test_set_x.values), 0, 20)\n",
    "lr_df = pd.DataFrame(lr_pred, columns = ['item_cnt_month'])\n",
    "lr_df['ID'] = lr_df.index\n",
    "lr_df = lr_df.set_index('ID')\n",
    "lr_df.to_csv('lr_pred.csv')"
   ]
  },
  {
   "cell_type": "code",
   "execution_count": 25,
   "metadata": {},
   "outputs": [
    {
     "name": "stdout",
     "output_type": "stream",
     "text": [
      "100%|███████████████████████████████████████| 5.16M/5.16M [00:08<00:00, 626kB/s]\n",
      "Successfully submitted to Final project: predict future sales"
     ]
    }
   ],
   "source": [
    "!kaggle competitions submit -c competitive-data-science-final-project -f lr_pred.csv -m \"Predict using LinearRegression model\""
   ]
  },
  {
   "cell_type": "code",
   "execution_count": 26,
   "metadata": {},
   "outputs": [
    {
     "name": "stdout",
     "output_type": "stream",
     "text": [
      "100%|███████████████████████████████████████| 5.16M/5.16M [00:08<00:00, 667kB/s]\n",
      "Successfully submitted to Predict Future Sales"
     ]
    }
   ],
   "source": [
    "!kaggle competitions submit -c competitive-data-science-predict-future-sales -f lr_pred.csv -m \"Predict using LinearRegression model\""
   ]
  },
  {
   "cell_type": "markdown",
   "metadata": {},
   "source": [
    "## CatBoost"
   ]
  },
  {
   "cell_type": "code",
   "execution_count": 41,
   "metadata": {},
   "outputs": [
    {
     "data": {
      "text/plain": [
       "Index(['Unnamed: 0', 'shop_id', 'item_id', 'date_block_num',\n",
       "       'item_cnt_month_lag_1', 'item_cnt_month_item_lag_1',\n",
       "       'item_cnt_month_shop_lag_1', 'item_cnt_month_lag_2',\n",
       "       'item_cnt_month_item_lag_2', 'item_cnt_month_shop_lag_2',\n",
       "       'item_cnt_month_lag_3', 'item_cnt_month_item_lag_3',\n",
       "       'item_cnt_month_shop_lag_3', 'item_cnt_month_lag_4',\n",
       "       'item_cnt_month_item_lag_4', 'item_cnt_month_shop_lag_4',\n",
       "       'item_cnt_month_lag_5', 'item_cnt_month_item_lag_5',\n",
       "       'item_cnt_month_shop_lag_5', 'item_cnt_month_lag_6',\n",
       "       'item_cnt_month_item_lag_6', 'item_cnt_month_shop_lag_6',\n",
       "       'item_cnt_month_lag_7', 'item_cnt_month_item_lag_7',\n",
       "       'item_cnt_month_shop_lag_7', 'item_cnt_month_lag_12',\n",
       "       'item_cnt_month_item_lag_12', 'item_cnt_month_shop_lag_12',\n",
       "       'item_cnt_month_lag_24', 'item_cnt_month_item_lag_24',\n",
       "       'item_cnt_month_shop_lag_24', 'item_category_id'],\n",
       "      dtype='object')"
      ]
     },
     "execution_count": 41,
     "metadata": {},
     "output_type": "execute_result"
    }
   ],
   "source": [
    "train_set_x.columns"
   ]
  },
  {
   "cell_type": "code",
   "execution_count": 42,
   "metadata": {},
   "outputs": [],
   "source": [
    "cat_features = [1, 2, 31]\n",
    "\n",
    "train_pool = Pool(train_set_x.values, \n",
    "                  train_set_y.values, cat_features=cat_features)\n",
    "eval_pool = Pool(val_set_x.values, \n",
    "                 val_set_y.values, cat_features=cat_features)\n",
    "\n",
    "test_pool = Pool(test_set_x.values, \n",
    "                 test_set_y.values, cat_features=cat_features)\n",
    "full_train_pool = Pool(full_train_set_x.values, \n",
    "                 full_train_set_y.values, cat_features=cat_features)"
   ]
  },
  {
   "cell_type": "code",
   "execution_count": 51,
   "metadata": {},
   "outputs": [],
   "source": [
    "cb_model = CatBoostRegressor(iterations=50,\n",
    "                             #depth=5,\n",
    "                             learning_rate=0.1,\n",
    "                             loss_function='RMSE')"
   ]
  },
  {
   "cell_type": "code",
   "execution_count": 52,
   "metadata": {},
   "outputs": [
    {
     "name": "stdout",
     "output_type": "stream",
     "text": [
      "0:\tlearn: 1.2153801\ttest: 1.1314660\tbest: 1.1314660 (0)\ttotal: 2.6s\tremaining: 2m 7s\n",
      "1:\tlearn: 1.1771990\ttest: 1.1038188\tbest: 1.1038188 (1)\ttotal: 4.97s\tremaining: 1m 59s\n",
      "2:\tlearn: 1.1447868\ttest: 1.0806592\tbest: 1.0806592 (2)\ttotal: 7.21s\tremaining: 1m 53s\n",
      "3:\tlearn: 1.1174379\ttest: 1.0606022\tbest: 1.0606022 (3)\ttotal: 9.38s\tremaining: 1m 47s\n",
      "4:\tlearn: 1.0940679\ttest: 1.0437758\tbest: 1.0437758 (4)\ttotal: 11.6s\tremaining: 1m 44s\n",
      "5:\tlearn: 1.0742150\ttest: 1.0300732\tbest: 1.0300732 (5)\ttotal: 13.7s\tremaining: 1m 40s\n",
      "6:\tlearn: 1.0572393\ttest: 1.0187123\tbest: 1.0187123 (6)\ttotal: 16.1s\tremaining: 1m 38s\n",
      "7:\tlearn: 1.0416459\ttest: 1.0070225\tbest: 1.0070225 (7)\ttotal: 18.3s\tremaining: 1m 35s\n",
      "8:\tlearn: 1.0294643\ttest: 0.9987969\tbest: 0.9987969 (8)\ttotal: 20.5s\tremaining: 1m 33s\n",
      "9:\tlearn: 1.0157625\ttest: 0.9929415\tbest: 0.9929415 (9)\ttotal: 23.2s\tremaining: 1m 32s\n",
      "10:\tlearn: 1.0042177\ttest: 0.9859275\tbest: 0.9859275 (10)\ttotal: 25.7s\tremaining: 1m 30s\n",
      "11:\tlearn: 0.9858239\ttest: 0.9835597\tbest: 0.9835597 (11)\ttotal: 28s\tremaining: 1m 28s\n",
      "12:\tlearn: 0.9713307\ttest: 0.9844474\tbest: 0.9835597 (11)\ttotal: 30.3s\tremaining: 1m 26s\n",
      "13:\tlearn: 0.9602820\ttest: 0.9847163\tbest: 0.9835597 (11)\ttotal: 32.5s\tremaining: 1m 23s\n",
      "14:\tlearn: 0.9511677\ttest: 0.9836932\tbest: 0.9835597 (11)\ttotal: 34.9s\tremaining: 1m 21s\n",
      "15:\tlearn: 0.9399221\ttest: 0.9901082\tbest: 0.9835597 (11)\ttotal: 36s\tremaining: 1m 16s\n",
      "16:\tlearn: 0.9306769\ttest: 0.9923284\tbest: 0.9835597 (11)\ttotal: 38.7s\tremaining: 1m 15s\n",
      "17:\tlearn: 0.9228176\ttest: 1.0000556\tbest: 0.9835597 (11)\ttotal: 41.6s\tremaining: 1m 13s\n",
      "18:\tlearn: 0.9160379\ttest: 1.0072048\tbest: 0.9835597 (11)\ttotal: 44s\tremaining: 1m 11s\n",
      "19:\tlearn: 0.9100322\ttest: 1.0096101\tbest: 0.9835597 (11)\ttotal: 46.5s\tremaining: 1m 9s\n",
      "20:\tlearn: 0.9048534\ttest: 1.0153727\tbest: 0.9835597 (11)\ttotal: 49.2s\tremaining: 1m 7s\n",
      "21:\tlearn: 0.8998263\ttest: 1.0199229\tbest: 0.9835597 (11)\ttotal: 52.5s\tremaining: 1m 6s\n",
      "22:\tlearn: 0.8953630\ttest: 1.0215208\tbest: 0.9835597 (11)\ttotal: 55.2s\tremaining: 1m 4s\n",
      "23:\tlearn: 0.8914925\ttest: 1.0224697\tbest: 0.9835597 (11)\ttotal: 57.8s\tremaining: 1m 2s\n",
      "24:\tlearn: 0.8878937\ttest: 1.0309220\tbest: 0.9835597 (11)\ttotal: 1m\tremaining: 1m\n",
      "25:\tlearn: 0.8854629\ttest: 1.0338970\tbest: 0.9835597 (11)\ttotal: 1m 3s\tremaining: 58.3s\n",
      "26:\tlearn: 0.8831414\ttest: 1.0319926\tbest: 0.9835597 (11)\ttotal: 1m 5s\tremaining: 56.1s\n",
      "27:\tlearn: 0.8812070\ttest: 1.0325837\tbest: 0.9835597 (11)\ttotal: 1m 8s\tremaining: 53.5s\n",
      "28:\tlearn: 0.8792898\ttest: 1.0292170\tbest: 0.9835597 (11)\ttotal: 1m 10s\tremaining: 51.3s\n",
      "29:\tlearn: 0.8771987\ttest: 1.0297866\tbest: 0.9835597 (11)\ttotal: 1m 13s\tremaining: 49s\n",
      "30:\tlearn: 0.8757631\ttest: 1.0288655\tbest: 0.9835597 (11)\ttotal: 1m 15s\tremaining: 46.5s\n",
      "31:\tlearn: 0.8739198\ttest: 1.0303671\tbest: 0.9835597 (11)\ttotal: 1m 18s\tremaining: 44.4s\n",
      "32:\tlearn: 0.8728498\ttest: 1.0285002\tbest: 0.9835597 (11)\ttotal: 1m 21s\tremaining: 42.2s\n",
      "33:\tlearn: 0.8690019\ttest: 1.0306334\tbest: 0.9835597 (11)\ttotal: 1m 25s\tremaining: 40.2s\n",
      "34:\tlearn: 0.8679873\ttest: 1.0295780\tbest: 0.9835597 (11)\ttotal: 1m 27s\tremaining: 37.7s\n",
      "35:\tlearn: 0.8671610\ttest: 1.0283177\tbest: 0.9835597 (11)\ttotal: 1m 30s\tremaining: 35.2s\n",
      "36:\tlearn: 0.8651155\ttest: 1.0296281\tbest: 0.9835597 (11)\ttotal: 1m 33s\tremaining: 32.7s\n",
      "37:\tlearn: 0.8642781\ttest: 1.0290961\tbest: 0.9835597 (11)\ttotal: 1m 35s\tremaining: 30.2s\n",
      "38:\tlearn: 0.8619351\ttest: 1.0326829\tbest: 0.9835597 (11)\ttotal: 1m 38s\tremaining: 27.6s\n",
      "39:\tlearn: 0.8610208\ttest: 1.0314355\tbest: 0.9835597 (11)\ttotal: 1m 40s\tremaining: 25.2s\n",
      "40:\tlearn: 0.8594238\ttest: 1.0316973\tbest: 0.9835597 (11)\ttotal: 1m 43s\tremaining: 22.8s\n",
      "41:\tlearn: 0.8579246\ttest: 1.0303778\tbest: 0.9835597 (11)\ttotal: 1m 47s\tremaining: 20.4s\n",
      "42:\tlearn: 0.8562480\ttest: 1.0323654\tbest: 0.9835597 (11)\ttotal: 1m 49s\tremaining: 17.8s\n",
      "43:\tlearn: 0.8551004\ttest: 1.0336856\tbest: 0.9835597 (11)\ttotal: 1m 51s\tremaining: 15.2s\n",
      "44:\tlearn: 0.8543193\ttest: 1.0325889\tbest: 0.9835597 (11)\ttotal: 1m 54s\tremaining: 12.7s\n",
      "45:\tlearn: 0.8528910\ttest: 1.0357844\tbest: 0.9835597 (11)\ttotal: 1m 56s\tremaining: 10.1s\n",
      "46:\tlearn: 0.8505080\ttest: 1.0394367\tbest: 0.9835597 (11)\ttotal: 1m 58s\tremaining: 7.56s\n",
      "47:\tlearn: 0.8495201\ttest: 1.0395491\tbest: 0.9835597 (11)\ttotal: 2m 1s\tremaining: 5.05s\n",
      "48:\tlearn: 0.8489641\ttest: 1.0387734\tbest: 0.9835597 (11)\ttotal: 2m 3s\tremaining: 2.52s\n",
      "49:\tlearn: 0.8476566\ttest: 1.0385631\tbest: 0.9835597 (11)\ttotal: 2m 6s\tremaining: 0us\n",
      "\n",
      "bestTest = 0.9835597122\n",
      "bestIteration = 11\n",
      "\n",
      "Shrink model to first 12 iterations.\n"
     ]
    },
    {
     "data": {
      "text/plain": [
       "<catboost.core.CatBoostRegressor at 0x7efd835f3748>"
      ]
     },
     "execution_count": 52,
     "metadata": {},
     "output_type": "execute_result"
    }
   ],
   "source": [
    "#train the model\n",
    "cb_model.fit(train_pool, verbose=True, eval_set=eval_pool)"
   ]
  },
  {
   "cell_type": "code",
   "execution_count": 60,
   "metadata": {},
   "outputs": [
    {
     "name": "stdout",
     "output_type": "stream",
     "text": [
      "[0.06885867 0.58769883 0.29647026 ... 0.08327507 0.08327507 0.06885867]\n"
     ]
    }
   ],
   "source": [
    "# make the prediction using the resulting model\n",
    "cb_pred_val = cb_model.predict(eval_pool)\n",
    "print(cb_pred_val)"
   ]
  },
  {
   "cell_type": "code",
   "execution_count": 61,
   "metadata": {},
   "outputs": [],
   "source": [
    "from sklearn.metrics import mean_squared_error"
   ]
  },
  {
   "cell_type": "code",
   "execution_count": 62,
   "metadata": {},
   "outputs": [
    {
     "data": {
      "text/plain": [
       "0.967389707378649"
      ]
     },
     "execution_count": 62,
     "metadata": {},
     "output_type": "execute_result"
    }
   ],
   "source": [
    "mean_squared_error(val_set_y.values, np.clip(cb_pred_val, 0 , 20))"
   ]
  },
  {
   "cell_type": "code",
   "execution_count": 78,
   "metadata": {},
   "outputs": [],
   "source": []
  },
  {
   "cell_type": "code",
   "execution_count": 57,
   "metadata": {},
   "outputs": [],
   "source": [
    "cb_pred = np.clip(cb_model.predict(test_pool), 0, 20)\n",
    "cb_df = pd.DataFrame(cb_pred, columns = ['item_cnt_month'])\n",
    "cb_df['ID'] = cb_df.index\n",
    "cb_df = cb_df.set_index('ID')\n",
    "cb_df.to_csv('cb_pred.csv')"
   ]
  },
  {
   "cell_type": "code",
   "execution_count": 59,
   "metadata": {},
   "outputs": [
    {
     "name": "stdout",
     "output_type": "stream",
     "text": [
      "100%|██████████████████████████████████████| 5.35M/5.35M [00:03<00:00, 1.64MB/s]\n",
      "100%|██████████████████████████████████████| 5.35M/5.35M [00:02<00:00, 1.93MB/s]\n",
      "Successfully submitted to Predict Future Sales"
     ]
    }
   ],
   "source": [
    "!kaggle competitions submit -c competitive-data-science-final-project -f cb_pred.csv -m \"Predict using CatBoost model\"\n",
    "!kaggle competitions submit -c competitive-data-science-predict-future-sales -f cb_pred.csv -m \"Predict using CatBoost model\""
   ]
  },
  {
   "cell_type": "markdown",
   "metadata": {},
   "source": [
    "## Ensembling\n",
    "\n",
    "Try to use linear combination of LinearRegression, CatBoost and XGBoost"
   ]
  },
  {
   "cell_type": "code",
   "execution_count": 64,
   "metadata": {},
   "outputs": [
    {
     "data": {
      "text/plain": [
       "LinearRegression(copy_X=True, fit_intercept=True, n_jobs=1, normalize=False)"
      ]
     },
     "execution_count": 64,
     "metadata": {},
     "output_type": "execute_result"
    }
   ],
   "source": [
    "lr_model = LinearRegression()\n",
    "lr_model.fit(X=train_set_x.values, y=train_set_y.values)"
   ]
  },
  {
   "cell_type": "code",
   "execution_count": 65,
   "metadata": {},
   "outputs": [],
   "source": [
    "xb_pred = np.clip(xgb_model.predict(val_set_x.values), 0, 20)\n",
    "lr_pred = np.clip(lr_model.predict(val_set_x.values), 0, 20)\n",
    "cb_pred = np.clip(cb_model.predict(val_set_x.values), 0, 20)"
   ]
  },
  {
   "cell_type": "code",
   "execution_count": 66,
   "metadata": {},
   "outputs": [
    {
     "data": {
      "text/plain": [
       "0.9120986292023764"
      ]
     },
     "execution_count": 66,
     "metadata": {},
     "output_type": "execute_result"
    },
    {
     "data": {
      "text/plain": [
       "1.0974785287366815"
      ]
     },
     "execution_count": 66,
     "metadata": {},
     "output_type": "execute_result"
    },
    {
     "data": {
      "text/plain": [
       "0.967389707378649"
      ]
     },
     "execution_count": 66,
     "metadata": {},
     "output_type": "execute_result"
    }
   ],
   "source": [
    "mean_squared_error(xb_pred, val_set_y.values)\n",
    "mean_squared_error(lr_pred, val_set_y.values)\n",
    "mean_squared_error(cb_pred, val_set_y.values)"
   ]
  },
  {
   "cell_type": "code",
   "execution_count": 73,
   "metadata": {},
   "outputs": [
    {
     "name": "stdout",
     "output_type": "stream",
     "text": [
      "Best alpha: 0.988000; Corresponding rmse on train: 0.911596\n"
     ]
    }
   ],
   "source": [
    "alphas_to_try = np.linspace(0, 1, 1001)\n",
    "\n",
    "# YOUR CODE GOES HERE\n",
    "best_alpha = 0# YOUR CODE GOES HERE\n",
    "r2_train_simple_mix = 100# YOUR CODE GOES HERE\n",
    "\n",
    "for alpha in alphas_to_try:\n",
    "    y_pred = alpha * (0.915 * xb_pred + (1 - 0.915) * cb_pred) + (1 - alpha) * lr_pred\n",
    "    score = mean_squared_error(val_set_y.values, y_pred)\n",
    "    if score < r2_train_simple_mix:\n",
    "        best_alpha = alpha\n",
    "        r2_train_simple_mix = score\n",
    "\n",
    "print('Best alpha: %f; Corresponding rmse on train: %f' % (best_alpha, r2_train_simple_mix))"
   ]
  },
  {
   "cell_type": "markdown",
   "metadata": {},
   "source": [
    "Train LinearRegression, CatBoost and XGBoost models on full train set and submit predictions"
   ]
  },
  {
   "cell_type": "code",
   "execution_count": 74,
   "metadata": {},
   "outputs": [
    {
     "data": {
      "text/plain": [
       "LinearRegression(copy_X=True, fit_intercept=True, n_jobs=1, normalize=False)"
      ]
     },
     "execution_count": 74,
     "metadata": {},
     "output_type": "execute_result"
    }
   ],
   "source": [
    "lr_full_model = LinearRegression()\n",
    "lr_full_model.fit(X=full_train_set_x.values, y=full_train_set_y.values)"
   ]
  },
  {
   "cell_type": "code",
   "execution_count": null,
   "metadata": {},
   "outputs": [],
   "source": [
    "# Use full_train_set_x/full_train_set_y and test_set_x to predict final values\n",
    "\n",
    "xgb_full_model = xgb.XGBRegressor(nthread = 8)\n",
    "xgb_full_model.fit(X=full_train_set_x.values, y=full_train_set_y.values, eval_metric='rmse')"
   ]
  },
  {
   "cell_type": "code",
   "execution_count": 77,
   "metadata": {},
   "outputs": [
    {
     "data": {
      "text/plain": [
       "XGBRegressor(base_score=0.5, booster='gbtree', colsample_bylevel=1,\n",
       "       colsample_bytree=1, gamma=0, importance_type='gain',\n",
       "       learning_rate=0.1, max_delta_step=0, max_depth=3,\n",
       "       min_child_weight=1, missing=None, n_estimators=100, n_jobs=1,\n",
       "       nthread=8, objective='reg:linear', random_state=0, reg_alpha=0,\n",
       "       reg_lambda=1, scale_pos_weight=1, seed=None, silent=True,\n",
       "       subsample=1)"
      ]
     },
     "execution_count": 77,
     "metadata": {},
     "output_type": "execute_result"
    }
   ],
   "source": [
    "xgb_full_model"
   ]
  },
  {
   "cell_type": "code",
   "execution_count": 79,
   "metadata": {},
   "outputs": [
    {
     "name": "stdout",
     "output_type": "stream",
     "text": [
      "0:\tlearn: 1.2136207\ttotal: 2.51s\tremaining: 35.1s\n",
      "1:\tlearn: 1.1757179\ttotal: 4.88s\tremaining: 31.7s\n",
      "2:\tlearn: 1.1434749\ttotal: 7.15s\tremaining: 28.6s\n",
      "3:\tlearn: 1.1161515\ttotal: 9.52s\tremaining: 26.2s\n",
      "4:\tlearn: 1.0897444\ttotal: 12s\tremaining: 24s\n",
      "5:\tlearn: 1.0634160\ttotal: 14.3s\tremaining: 21.4s\n",
      "6:\tlearn: 1.0394609\ttotal: 16.1s\tremaining: 18.4s\n",
      "7:\tlearn: 1.0206620\ttotal: 18.1s\tremaining: 15.8s\n",
      "8:\tlearn: 1.0030630\ttotal: 20.9s\tremaining: 14s\n",
      "9:\tlearn: 0.9864289\ttotal: 23.5s\tremaining: 11.8s\n",
      "10:\tlearn: 0.9748635\ttotal: 25.8s\tremaining: 9.39s\n",
      "11:\tlearn: 0.9632853\ttotal: 29.2s\tremaining: 7.29s\n",
      "12:\tlearn: 0.9547901\ttotal: 31.8s\tremaining: 4.9s\n",
      "13:\tlearn: 0.9458146\ttotal: 34.3s\tremaining: 2.45s\n",
      "14:\tlearn: 0.9373982\ttotal: 37.1s\tremaining: 0us\n"
     ]
    },
    {
     "data": {
      "text/plain": [
       "<catboost.core.CatBoostRegressor at 0x7efd835f09e8>"
      ]
     },
     "execution_count": 79,
     "metadata": {},
     "output_type": "execute_result"
    }
   ],
   "source": [
    "cb_full_model = CatBoostRegressor(iterations=15,\n",
    "                             #depth=5,\n",
    "                             learning_rate=0.1,\n",
    "                             loss_function='RMSE')\n",
    "cb_full_model.fit(full_train_pool, verbose=True)"
   ]
  },
  {
   "cell_type": "code",
   "execution_count": 80,
   "metadata": {},
   "outputs": [],
   "source": [
    "xb_test_pred = np.clip(xgb_full_model.predict(test_set_x.values), 0, 20)\n",
    "lr_test_pred = np.clip(lr_full_model.predict(test_set_x.values), 0, 20)\n",
    "cb_test_pred = np.clip(cb_full_model.predict(test_set_x.values), 0, 20)"
   ]
  },
  {
   "cell_type": "code",
   "execution_count": 81,
   "metadata": {},
   "outputs": [],
   "source": [
    "y_pred = best_alpha * (0.915 * xb_test_pred + (1 - 0.915) * cb_test_pred) + (1 - best_alpha) * lr_test_pred"
   ]
  },
  {
   "cell_type": "code",
   "execution_count": 82,
   "metadata": {},
   "outputs": [],
   "source": [
    "y_pred = np.clip(y_pred, 0, 20)\n",
    "test_df = pd.DataFrame(y_pred, columns = ['item_cnt_month'])\n",
    "test_df['ID'] = test_df.index\n",
    "test_df = test_df.set_index('ID')\n",
    "test_df.to_csv('test_pred.csv')"
   ]
  },
  {
   "cell_type": "code",
   "execution_count": 83,
   "metadata": {},
   "outputs": [
    {
     "name": "stdout",
     "output_type": "stream",
     "text": [
      "100%|███████████████████████████████████████| 5.36M/5.36M [00:11<00:00, 508kB/s]\n",
      "100%|██████████████████████████████████████| 5.36M/5.36M [00:05<00:00, 1.09MB/s]\n",
      "Successfully submitted to Predict Future Sales"
     ]
    }
   ],
   "source": [
    "!kaggle competitions submit -c competitive-data-science-final-project -f test_pred.csv -m \"Predict using CatBoost,LinearRegresssion and XGBoost model\"\n",
    "!kaggle competitions submit -c competitive-data-science-predict-future-sales -f test_pred.csv -m \"Predict using CatBoost,LinearRegresssion and XGBoost model\""
   ]
  },
  {
   "cell_type": "markdown",
   "metadata": {},
   "source": [
    "I was able to improve score from  0.99042 to 0.98989, which is only slight improvement.\n",
    "So, introducing more features seems to be more promissing way to improve score.\n",
    "Will try to do next submission by using only XGBoost and introduce more features."
   ]
  },
  {
   "cell_type": "code",
   "execution_count": null,
   "metadata": {},
   "outputs": [],
   "source": []
  }
 ],
 "metadata": {
  "kernelspec": {
   "display_name": "Python 3",
   "language": "python",
   "name": "python3"
  },
  "language_info": {
   "codemirror_mode": {
    "name": "ipython",
    "version": 3
   },
   "file_extension": ".py",
   "mimetype": "text/x-python",
   "name": "python",
   "nbconvert_exporter": "python",
   "pygments_lexer": "ipython3",
   "version": "3.6.7"
  }
 },
 "nbformat": 4,
 "nbformat_minor": 2
}
